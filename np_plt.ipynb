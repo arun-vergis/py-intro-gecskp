{
 "cells": [
  {
   "cell_type": "markdown",
   "metadata": {
    "id": "fY12nHhyL9hX"
   },
   "source": [
    "## Numpy \n",
    "\n",
    "Numpy is the core library for scientific computing in Python. It provides a high-performance multidimensional array object, and tools for working with these arrays. Almost all scientific computing packages in Python are built on top of Numpy.\n",
    "\n",
    "(https://numpy.org)"
   ]
  },
  {
   "cell_type": "markdown",
   "metadata": {
    "id": "lZMyAdqhL9hY"
   },
   "source": [
    "To use Numpy, we first need to import the `numpy` package:"
   ]
  },
  {
   "cell_type": "code",
   "execution_count": null,
   "metadata": {
    "id": "58QdX8BLL9hZ"
   },
   "outputs": [],
   "source": [
    "import numpy as np"
   ]
  },
  {
   "cell_type": "markdown",
   "metadata": {
    "id": "DDx6v1EdL9hb"
   },
   "source": [
    "### Arrays"
   ]
  },
  {
   "cell_type": "code",
   "execution_count": null,
   "metadata": {
    "id": "-l3JrGxCL9hc"
   },
   "outputs": [],
   "source": [
    "a = np.array([1, 2, 3, 4]) #create a 1D array\n",
    "type(a)"
   ]
  },
  {
   "cell_type": "code",
   "execution_count": null,
   "metadata": {
    "id": "urjwBmzBXI-3",
    "scrolled": true
   },
   "outputs": [],
   "source": [
    "a.size"
   ]
  },
  {
   "cell_type": "markdown",
   "metadata": {
    "id": "46HL19mPXI-4"
   },
   "source": [
    "***Mathematical operations are performed element wise:***"
   ]
  },
  {
   "cell_type": "code",
   "execution_count": null,
   "metadata": {
    "id": "sAH9glpeXI-4"
   },
   "outputs": [],
   "source": [
    "a = np.array([1, 2, 3, 4])\n",
    "b = np.array([3, 2, 1, 5])"
   ]
  },
  {
   "cell_type": "code",
   "execution_count": null,
   "metadata": {
    "id": "Sfd8qtvSXI-7"
   },
   "outputs": [],
   "source": [
    "a + b #these arithmetic operators are conv wrappers around sp np funcs"
   ]
  },
  {
   "cell_type": "code",
   "execution_count": null,
   "metadata": {
    "id": "1fXhBAs4XI_A"
   },
   "outputs": [],
   "source": [
    "a * b"
   ]
  },
  {
   "cell_type": "code",
   "execution_count": null,
   "metadata": {
    "id": "baMXyN0MXI_C"
   },
   "outputs": [],
   "source": [
    "a / b"
   ]
  },
  {
   "cell_type": "code",
   "execution_count": null,
   "metadata": {
    "id": "EKUKnDWdXI_D"
   },
   "outputs": [],
   "source": [
    "a**b"
   ]
  },
  {
   "cell_type": "code",
   "execution_count": null,
   "metadata": {
    "id": "YSz_5BtOXI_E"
   },
   "outputs": [],
   "source": [
    "a < b"
   ]
  },
  {
   "cell_type": "markdown",
   "metadata": {
    "id": "4zT7yNFzXI_F"
   },
   "source": [
    "Numpy offers many functions for array creation. `arange(start, stop, step)` is one such function."
   ]
  },
  {
   "cell_type": "code",
   "execution_count": null,
   "metadata": {
    "id": "GykaXoCyXI_F"
   },
   "outputs": [],
   "source": [
    "# create array from 0. to pi\n",
    "x = np.arange(0, np.pi, np.pi/10) \n",
    "x"
   ]
  },
  {
   "cell_type": "markdown",
   "metadata": {
    "id": "EaGCR3pWXI_G"
   },
   "source": [
    "Alternate to `arange()` is `linspace()`. `linspace(start, stop, num )` returns `num` evenly spaced samples, calculated over the interval [`start`, `stop`]."
   ]
  },
  {
   "cell_type": "code",
   "execution_count": null,
   "metadata": {
    "id": "hntjeNbYXI_H"
   },
   "outputs": [],
   "source": [
    "x = np.linspace(0, np.pi, 10)\n",
    "x"
   ]
  },
  {
   "cell_type": "markdown",
   "metadata": {
    "id": "EhVBUNXcXI_I"
   },
   "source": [
    "***Mathematical functions apply to entire array:***"
   ]
  },
  {
   "cell_type": "code",
   "execution_count": null,
   "metadata": {
    "id": "OEI3XR5sXI_J"
   },
   "outputs": [],
   "source": [
    "y = np.sin(x) # math lib also has sin fun\n",
    "y"
   ]
  },
  {
   "cell_type": "markdown",
   "metadata": {
    "id": "jTctwqdQL9ih"
   },
   "source": [
    "### Datatypes"
   ]
  },
  {
   "cell_type": "markdown",
   "metadata": {
    "id": "kSZQ1WkIL9ih"
   },
   "source": [
    "Every numpy array is a grid of elements of the **same type**. Numpy provides a large set of numeric datatypes that you can use to construct arrays. Numpy tries to guess a datatype when you create an array, but we can also specify the datatype:"
   ]
  },
  {
   "cell_type": "code",
   "execution_count": null,
   "metadata": {
    "id": "4za4O0m5L9ih"
   },
   "outputs": [],
   "source": [
    "x = np.array([1, 2])  # Let numpy choose the datatype\n",
    "y = np.array([1.0, 2.0])  # Let numpy choose the datatype\n",
    "z = np.array([1, 2], dtype=np.float32)  # Force a particular datatype\n",
    "\n",
    "print(x.dtype, y.dtype, z.dtype)"
   ]
  },
  {
   "cell_type": "markdown",
   "metadata": {
    "id": "SjssqoSUXI_S"
   },
   "source": [
    "Beware of type coercion:"
   ]
  },
  {
   "cell_type": "code",
   "execution_count": null,
   "metadata": {
    "id": "m7hOtuUyXI_T"
   },
   "outputs": [],
   "source": [
    "# assigning a float into an int32 array truncates the decimal part\n",
    "x[0] = 10.6\n",
    "x"
   ]
  },
  {
   "cell_type": "markdown",
   "metadata": {
    "id": "vJQV-u1jXI_V"
   },
   "source": [
    "#### Exercise:"
   ]
  },
  {
   "cell_type": "code",
   "execution_count": null,
   "metadata": {
    "id": "4WGidGQ0XI_W"
   },
   "outputs": [],
   "source": [
    "# [ ] Create list data\n",
    "data = [180, 215, 210, 210, 188, 176, 209, 200]\n",
    "\n",
    "# Create a Numpy array from list data: np_data\n",
    "\n",
    "# Print out the datatype of the elements of np_data\n"
   ]
  },
  {
   "cell_type": "markdown",
   "metadata": {
    "id": "aa__lx0vXI_X"
   },
   "source": [
    "### Two dimensional arrays:"
   ]
  },
  {
   "cell_type": "code",
   "execution_count": null,
   "metadata": {
    "id": "ma6mk-kdL9hh"
   },
   "outputs": [],
   "source": [
    "b = np.array([[1,2,3],[4,5,6]])   # Create a 2D array\n",
    "print(b)"
   ]
  },
  {
   "cell_type": "code",
   "execution_count": null,
   "metadata": {
    "id": "W0l2VwRUXI_a"
   },
   "outputs": [],
   "source": [
    "b.ndim #number of dimensions"
   ]
  },
  {
   "cell_type": "code",
   "execution_count": null,
   "metadata": {
    "id": "ymfSHAwtL9hj"
   },
   "outputs": [],
   "source": [
    "b.shape #Shape returns a tuple listing the length of the array along each dimension  "
   ]
  },
  {
   "cell_type": "code",
   "execution_count": null,
   "metadata": {
    "id": "9_G5F6ltXI_i"
   },
   "outputs": [],
   "source": [
    "b.T #transpose"
   ]
  },
  {
   "cell_type": "markdown",
   "metadata": {
    "id": "rCePNa6FXI_j"
   },
   "source": [
    "Arithmetic operators apply elementwise. The matrix product can be performed using the `@` operator or the `dot` function or method:"
   ]
  },
  {
   "cell_type": "code",
   "execution_count": null,
   "metadata": {
    "id": "ZnaujyP9XI_k"
   },
   "outputs": [],
   "source": [
    "A = np.array( [[1,1], [0,1]] )\n",
    "B = np.array( [[2,0], [3,4]] )"
   ]
  },
  {
   "cell_type": "code",
   "execution_count": null,
   "metadata": {
    "id": "dT041h2uXI_k"
   },
   "outputs": [],
   "source": [
    "A*B #element by element multiplication"
   ]
  },
  {
   "cell_type": "code",
   "execution_count": null,
   "metadata": {
    "id": "fZP4IslSXI_m"
   },
   "outputs": [],
   "source": [
    "A@B # matrix "
   ]
  },
  {
   "cell_type": "markdown",
   "metadata": {
    "id": "F2qwdyvuL9hn"
   },
   "source": [
    "#### Array creation functions\n",
    "In addition to `np.array`, `np.arange` and `np.linspace`, there are a number of other functions for creating new\n",
    "arrays:"
   ]
  },
  {
   "cell_type": "code",
   "execution_count": null,
   "metadata": {
    "id": "mVTN_EBqL9hn"
   },
   "outputs": [],
   "source": [
    "# Create an array of all zeros\n",
    "a = np.zeros(10)  \n",
    "print(a)"
   ]
  },
  {
   "cell_type": "code",
   "execution_count": null,
   "metadata": {
    "id": "skiKlNmlL9h5"
   },
   "outputs": [],
   "source": [
    "# Create an array of all ones\n",
    "b = np.ones((2,3))  # Note that the shape must be a tuple \n",
    "print(b)"
   ]
  },
  {
   "cell_type": "code",
   "execution_count": null,
   "metadata": {
    "id": "HtFsr03bL9h7"
   },
   "outputs": [],
   "source": [
    "# Create a constant array\n",
    "c = np.full((3,2), 3.14) # Note that the dtype is that of the constant\n",
    "print(c)"
   ]
  },
  {
   "cell_type": "code",
   "execution_count": null,
   "metadata": {
    "id": "-QcALHvkL9h9",
    "scrolled": true
   },
   "outputs": [],
   "source": [
    "d = np.eye(2)  # Create a 2x2 identity matrix\n",
    "print(d)"
   ]
  },
  {
   "cell_type": "code",
   "execution_count": null,
   "metadata": {
    "id": "RCpaYg9qL9iA"
   },
   "outputs": [],
   "source": [
    "e = np.random.random((2,2)) # Create a 2x2 array of uniformly distributed random numbers in [0, 1)\n",
    "print(e)"
   ]
  },
  {
   "cell_type": "code",
   "execution_count": null,
   "metadata": {
    "id": "wt4DQjleXI_q"
   },
   "outputs": [],
   "source": [
    "f=np.empty((2,3))\n",
    "print(f)"
   ]
  },
  {
   "cell_type": "markdown",
   "metadata": {
    "id": "DeSb_Z6YXI_q"
   },
   "source": [
    "### Accessing array elements"
   ]
  },
  {
   "cell_type": "markdown",
   "metadata": {
    "id": "jIDCeW9cXI_r"
   },
   "source": [
    "Arrays can be indexed, sliced and iterated over, much like lists and other Python sequences."
   ]
  },
  {
   "cell_type": "code",
   "execution_count": null,
   "metadata": {
    "id": "2BEb5NqxXI_r"
   },
   "outputs": [],
   "source": [
    "a = np.arange(10.) # create a 1D array\n",
    "a"
   ]
  },
  {
   "cell_type": "code",
   "execution_count": null,
   "metadata": {
    "id": "GJDLgsiMXI_t"
   },
   "outputs": [],
   "source": [
    "# indexing\n",
    "a[-2]"
   ]
  },
  {
   "cell_type": "code",
   "execution_count": null,
   "metadata": {
    "id": "95ZGI3SUXI_w"
   },
   "outputs": [],
   "source": [
    "b = a[2:5] #slicing - start:stop:step\n",
    "b"
   ]
  },
  {
   "cell_type": "markdown",
   "metadata": {
    "id": "UKXTtoiPXI_x"
   },
   "source": [
    "A slice of an array is a view into the same data, so modifying it will modify the original array."
   ]
  },
  {
   "cell_type": "code",
   "execution_count": null,
   "metadata": {
    "id": "Yw4-cdJVXI_y"
   },
   "outputs": [],
   "source": [
    "b[0] = 99 # modifying b modifies a also\n",
    "a "
   ]
  },
  {
   "cell_type": "markdown",
   "metadata": {
    "id": "uPcNxXZhXI_z"
   },
   "source": [
    "If you want a copy instead of a view, you should use the `copy` method. For example:"
   ]
  },
  {
   "cell_type": "code",
   "execution_count": null,
   "metadata": {
    "id": "FttQL6ksXI_2"
   },
   "outputs": [],
   "source": [
    "c = a.copy()\n",
    "c[-1] = 100\n",
    "a"
   ]
  },
  {
   "cell_type": "markdown",
   "metadata": {
    "id": "RnL7kHqJXI_5"
   },
   "source": [
    "Multidimensional arrays can also be indexed and sliced:"
   ]
  },
  {
   "cell_type": "code",
   "execution_count": null,
   "metadata": {
    "id": "wLWA0udwL9iD"
   },
   "outputs": [],
   "source": [
    "a = np.arange(25).reshape(5, 5) #reshape\n",
    "a"
   ]
  },
  {
   "cell_type": "code",
   "execution_count": null,
   "metadata": {
    "id": "efh8vCQEXI_8"
   },
   "outputs": [],
   "source": [
    "a[2, 3]"
   ]
  },
  {
   "cell_type": "code",
   "execution_count": null,
   "metadata": {
    "id": "2YEkkA4iXI_8"
   },
   "outputs": [],
   "source": [
    "a[3]"
   ]
  },
  {
   "cell_type": "markdown",
   "metadata": {
    "id": "QYv4JyIEL9iD"
   },
   "source": [
    "When slicing multidimensional arrays, you must specify a slice for each dimension of the array:"
   ]
  },
  {
   "cell_type": "code",
   "execution_count": null,
   "metadata": {
    "id": "C1qCqFMmXJAG"
   },
   "outputs": [],
   "source": [
    "a[1: , 2:]"
   ]
  },
  {
   "cell_type": "markdown",
   "metadata": {
    "id": "izmlAzOfXJAG"
   },
   "source": [
    "***Exercise 1*** Use slicing to extract the following subarray from `a`\n",
    "\n",
    "$\\left[ \\begin{array}{ccc}\n",
    "\\left[\\begin{array}{cc} 1, &3\\end{array}\\right], \\\\\n",
    "\\left[\\begin{array}{cc} 6, &8\\end{array}\\right], \\\\\n",
    "\\left[\\begin{array}{cc} 11, &13\\end{array}\\right], \\\\\n",
    "\\left[\\begin{array}{cc} 16, &18\\end{array}\\right], \\\\\n",
    "\\left[\\begin{array}{cc} 21, &23\\end{array}\\right], \\\\\n",
    "\\end{array} \\right]$"
   ]
  },
  {
   "cell_type": "code",
   "execution_count": null,
   "metadata": {
    "id": "phc41wuZXJAH"
   },
   "outputs": [],
   "source": []
  },
  {
   "cell_type": "markdown",
   "metadata": {
    "id": "LEI5YuNnXJAI"
   },
   "source": [
    "***Exercise 2*** Use slicing to extract the following subarray from `a`\n",
    "\n",
    "$\\left[ \\begin{array}{ccc}\n",
    "\\left[\\begin{array}{ccc} 10, &12, &14 \\end{array}\\right] \\\\\n",
    "\\left[\\begin{array}{ccc} 20, &22, &24 \\end{array}\\right] \\\\\n",
    "\\end{array} \\right]$"
   ]
  },
  {
   "cell_type": "code",
   "execution_count": null,
   "metadata": {
    "id": "1cnTlM2LXJAI"
   },
   "outputs": [],
   "source": []
  },
  {
   "cell_type": "markdown",
   "metadata": {
    "id": "wI73i5dLXJAJ"
   },
   "source": [
    "***Exercise 3*** Use slicing to extract the following subarray from `a`\n",
    "\n",
    "$\\left[ \\begin{array}{ccc}\n",
    "\\left[\\begin{array}{cc} 18, &19\\end{array}\\right] \\\\\n",
    "\\left[\\begin{array}{cc} 23, &24\\end{array}\\right] \\\\\n",
    "\\end{array} \\right]$"
   ]
  },
  {
   "cell_type": "code",
   "execution_count": null,
   "metadata": {
    "id": "zneHSgrKXJAK"
   },
   "outputs": [],
   "source": []
  },
  {
   "cell_type": "markdown",
   "metadata": {
    "id": "bjhP5LZuXJAw"
   },
   "source": [
    "### Concatenation of arrays\n",
    "\n",
    "Concatenation, or joining of two arrays in NumPy, is primarily accomplished using ``np.concatenate``.\n",
    "``np.concatenate`` takes a tuple or list of arrays as its first argument, as we can see here:"
   ]
  },
  {
   "cell_type": "code",
   "execution_count": null,
   "metadata": {
    "id": "wSt7JJz7XJA3"
   },
   "outputs": [],
   "source": [
    "x = np.array([1, 2, 3])\n",
    "y = np.array([3, 2, 1])\n",
    "np.concatenate([x, y])"
   ]
  },
  {
   "cell_type": "markdown",
   "metadata": {
    "id": "CG95nJbvXJA4"
   },
   "source": [
    "It can also be used for two-dimensional arrays::"
   ]
  },
  {
   "cell_type": "code",
   "execution_count": null,
   "metadata": {
    "id": "CJb0RBUSXJA4"
   },
   "outputs": [],
   "source": [
    "z = np.array([[1, 2, 3], [4, 5, 6]])"
   ]
  },
  {
   "cell_type": "code",
   "execution_count": null,
   "metadata": {
    "id": "PAaDXKwfXJA5"
   },
   "outputs": [],
   "source": [
    "# concatenate along the first axis\n",
    "np.concatenate([z, z])"
   ]
  },
  {
   "cell_type": "code",
   "execution_count": null,
   "metadata": {
    "id": "yoyRpk4UXJA5"
   },
   "outputs": [],
   "source": [
    "# concatenate along the second axis\n",
    "np.concatenate([z, z], axis=1)"
   ]
  },
  {
   "cell_type": "markdown",
   "metadata": {
    "id": "f6y_nZk7XJA6"
   },
   "source": [
    " ``np.vstack`` and ``np.hstack`` can be used for vertical stacking and horizontal stacking"
   ]
  },
  {
   "cell_type": "code",
   "execution_count": null,
   "metadata": {
    "id": "OwLyl8n9XJA6"
   },
   "outputs": [],
   "source": [
    "np.vstack([z,z])"
   ]
  },
  {
   "cell_type": "code",
   "execution_count": null,
   "metadata": {
    "id": "0RHMXSr0XJA7"
   },
   "outputs": [],
   "source": [
    "np.hstack([z,z])"
   ]
  },
  {
   "cell_type": "markdown",
   "metadata": {
    "id": "REfLrUTcL9i7"
   },
   "source": [
    "### Broadcasting\n",
    "Broadcasting is a powerful mechanism that allows numpy to work with arrays of different shapes when performing arithmetic operations. "
   ]
  },
  {
   "cell_type": "code",
   "execution_count": null,
   "metadata": {
    "id": "KwojZiZSXJA8"
   },
   "outputs": [],
   "source": [
    "x = np.arange(4.)\n"
   ]
  },
  {
   "cell_type": "code",
   "execution_count": null,
   "metadata": {
    "id": "uEdpBe6KXJA9"
   },
   "outputs": [],
   "source": [
    "2**x"
   ]
  },
  {
   "cell_type": "markdown",
   "metadata": {
    "id": "KxIW1fn-XJBB"
   },
   "source": [
    "Broadcasting also works when assigning. Let's first create an array `a`:"
   ]
  },
  {
   "cell_type": "code",
   "execution_count": null,
   "metadata": {
    "id": "6XvoDGIcXJBC"
   },
   "outputs": [],
   "source": [
    "a = np.arange(25).reshape(5, 5)\n",
    "a"
   ]
  },
  {
   "cell_type": "markdown",
   "metadata": {
    "id": "OvOTIAQ5XJBD"
   },
   "source": [
    "Assigning to a slice expression assigns to the whole selection:"
   ]
  },
  {
   "cell_type": "code",
   "execution_count": null,
   "metadata": {
    "id": "RLo5M7nRXJBE"
   },
   "outputs": [],
   "source": [
    "a[::2, 1:] = 100  \n",
    "a"
   ]
  },
  {
   "cell_type": "markdown",
   "metadata": {
    "id": "mHrykm_bXJBG"
   },
   "source": [
    "#### Exercise:\n",
    "Create a $5x5$ array of zeros. Replace all elements in the second and third columns by $100$. Replace the $2x2$ slice at the lower right corner by $200$"
   ]
  },
  {
   "cell_type": "code",
   "execution_count": null,
   "metadata": {
    "id": "Ui4MIMsGXJBH"
   },
   "outputs": [],
   "source": []
  },
  {
   "cell_type": "markdown",
   "metadata": {
    "id": "EygGAMWqL9i7"
   },
   "source": [
    "Frequently we have a smaller array and a larger array, and we want to use the smaller array multiple times to perform some operation on the larger array. Suppose that we want to add a constant vector to each row of a matrix. We could do it like this:"
   ]
  },
  {
   "cell_type": "code",
   "execution_count": null,
   "metadata": {
    "id": "WEEvkV1ZL9i7"
   },
   "outputs": [],
   "source": [
    "# We want to add the vector v to each row of the matrix x,\n",
    "# storing the result in the matrix y\n",
    "x = np.ones((4,3))\n",
    "v = np.array([0, 1, 2])\n",
    "\n",
    "y = np.empty_like(x)   # Create an empty matrix with the same shape as x\n",
    "\n",
    "# Add the vector v to each row of the matrix x with an explicit loop\n",
    "for i in range(4):\n",
    "    y[i, :] = x[i, :] + v\n",
    "\n",
    "print(y)"
   ]
  },
  {
   "cell_type": "markdown",
   "metadata": {
    "id": "zHos6RJnL9jB"
   },
   "source": [
    "Numpy broadcasting allows us to perform this computation without actually creating multiple copies of v. Consider this version, using broadcasting:"
   ]
  },
  {
   "cell_type": "code",
   "execution_count": null,
   "metadata": {
    "id": "vnYFb-gYL9jC"
   },
   "outputs": [],
   "source": [
    "# We will add the vector v to each row of the matrix x, storing the result in the matrix y\n",
    "y = x + v  # Add v to each row of x using broadcasting\n",
    "print(y)"
   ]
  },
  {
   "cell_type": "markdown",
   "metadata": {
    "id": "08YyIURKL9jH"
   },
   "source": [
    "The line `y = x + v` works even though `x` has shape `(4, 3)` and `v` has shape `(3,)` due to broadcasting; this line works as if v actually had shape `(4, 3)`, where each row was a copy of `v`, and the sum was performed elementwise.\n",
    "The array `v` is **broadcasted** to the size of `x`\n",
    "\n"
   ]
  },
  {
   "cell_type": "markdown",
   "metadata": {
    "id": "QlyDnyxXXJBr"
   },
   "source": [
    "Also note that while we've been focusing on the ``+`` operator here, these broadcasting rules apply to many other functions. Functions that support broadcasting are called **universal functions (ufuncs)**. You can find the list of all universal functions in the [documentation](http://docs.scipy.org/doc/numpy/reference/ufuncs.html#).\n",
    "\n",
    "Broadcasting typically makes your code more concise and faster, so you should strive to use it where possible."
   ]
  },
  {
   "cell_type": "markdown",
   "metadata": {
    "id": "j65Bqi1bXJBs"
   },
   "source": [
    "### Indexing with other arrays (Fancy indexing)\n",
    "NumPy arrays may be indexed with other arrays. With index arrays, what is returned is a copy of the original data, not a view as one gets for slices."
   ]
  },
  {
   "cell_type": "code",
   "execution_count": null,
   "metadata": {
    "id": "8MBfHXNhXJBu"
   },
   "outputs": [],
   "source": [
    "#Using another array to index\n",
    "a = np.arange(6)**2\n",
    "a"
   ]
  },
  {
   "cell_type": "code",
   "execution_count": null,
   "metadata": {
    "id": "5C6KX-lGXJBv"
   },
   "outputs": [],
   "source": [
    "indices = [0,2,4,5] # indices can also be numpy array\n",
    "a[indices]"
   ]
  },
  {
   "cell_type": "markdown",
   "metadata": {
    "id": "hBRLpt7YXJBx"
   },
   "source": [
    "Indexing with arrays allows you to rearrange and duplicate array elements arbitrarily"
   ]
  },
  {
   "cell_type": "code",
   "execution_count": null,
   "metadata": {
    "id": "NC_-tbFZXJB1"
   },
   "outputs": [],
   "source": [
    "indices = [3, 2, 2, 1]\n",
    "a[indices]"
   ]
  },
  {
   "cell_type": "markdown",
   "metadata": {
    "id": "MQZk4ZutXJB1"
   },
   "source": [
    "Index array can also be used for setting:"
   ]
  },
  {
   "cell_type": "code",
   "execution_count": null,
   "metadata": {
    "id": "6hazG9-lXJB4"
   },
   "outputs": [],
   "source": [
    "indices = [1, 2, 3]\n",
    "a[indices] = 99\n",
    "a"
   ]
  },
  {
   "cell_type": "markdown",
   "metadata": {
    "id": "kaE8dBGgL9id"
   },
   "source": [
    "### Boolean array indexing\n",
    "Boolean array indexing lets you pick out arbitrary elements of an array. Frequently this type of indexing is used to select the elements of an array that satisfy some condition. Here is an example, where I want to get the negative elements of the array:"
   ]
  },
  {
   "cell_type": "code",
   "execution_count": null,
   "metadata": {
    "id": "NDMxYKCvXJB8"
   },
   "outputs": [],
   "source": [
    "a = np.array([1, -3, 4, -1, 5, -8, 7])\n",
    "mask = a < 0\n",
    "mask"
   ]
  },
  {
   "cell_type": "code",
   "execution_count": null,
   "metadata": {
    "id": "WATg-UITXJB8"
   },
   "outputs": [],
   "source": [
    "a[mask]"
   ]
  },
  {
   "cell_type": "markdown",
   "metadata": {
    "id": "QD0cQ6mYXJB9"
   },
   "source": [
    "This also works when setting. Say, I want set all negative elements to zero:"
   ]
  },
  {
   "cell_type": "code",
   "execution_count": null,
   "metadata": {
    "id": "diik_Y2XXJB9"
   },
   "outputs": [],
   "source": [
    "a[mask] = 0\n",
    "a"
   ]
  },
  {
   "cell_type": "markdown",
   "metadata": {
    "id": "9YYjWGN0XJB-"
   },
   "source": [
    "A 2D example:"
   ]
  },
  {
   "cell_type": "code",
   "execution_count": null,
   "metadata": {
    "id": "32PusjtKL9id"
   },
   "outputs": [],
   "source": [
    "a = np.array([[1,2], [3, 4], [5, 6]])\n",
    "\n",
    "mask = a > 2  # Find the elements of a that are bigger than 2;\n",
    "                    # this returns a numpy array of Booleans of the same\n",
    "                    # shape as a, where each slot of mask tells\n",
    "                    # whether that element of a is > 2.\n",
    "mask"
   ]
  },
  {
   "cell_type": "code",
   "execution_count": null,
   "metadata": {
    "id": "cb2IRMXaL9if"
   },
   "outputs": [],
   "source": [
    "# We use boolean array indexing to construct a rank 1 array\n",
    "# consisting of the elements of a corresponding to the True values of bool_idx\n",
    "a[mask]"
   ]
  },
  {
   "cell_type": "code",
   "execution_count": null,
   "metadata": {
    "id": "82sVNzzyXJCA"
   },
   "outputs": [],
   "source": [
    "# We can do all of the above in a single concise statement:\n",
    "print(a[a > 2])"
   ]
  },
  {
   "cell_type": "markdown",
   "metadata": {
    "id": "Qjw_2sZOXJCA"
   },
   "source": [
    "What if we want to extract elements of `a` that greater than 3 and less than 6?\n",
    "This is accomplished through Python's *bitwise logic operators*, ``&``, ``|``, ``^``, and ``~``.\n",
    "Like with the standard arithmetic operators, NumPy overloads these as ufuncs which work element-wise on (usually Boolean) arrays.\n",
    "We can address this sort of compound question as follows:"
   ]
  },
  {
   "cell_type": "code",
   "execution_count": null,
   "metadata": {
    "id": "uvNmPNiRXJCB"
   },
   "outputs": [],
   "source": [
    "a[(a > 3) & (a < 6)]  "
   ]
  },
  {
   "cell_type": "markdown",
   "metadata": {
    "id": "GNqxS2oQXJCC"
   },
   "source": [
    "Note that the parentheses here are important–because of operator precedence rules"
   ]
  },
  {
   "cell_type": "markdown",
   "metadata": {
    "id": "bvi67plVXJCI"
   },
   "source": [
    "#### Exercise:\n",
    "Replace all elements of `a` which are divisible by $3$ with $100$"
   ]
  },
  {
   "cell_type": "code",
   "execution_count": null,
   "metadata": {
    "id": "CNldeXi6XJCI"
   },
   "outputs": [],
   "source": []
  },
  {
   "cell_type": "code",
   "execution_count": null,
   "metadata": {
    "id": "OEanaYv-XJCK"
   },
   "outputs": [],
   "source": [
    "np.sum((g > .25) & (g < .75)) #np.count_nonzero() can also be used instead of np.sum()"
   ]
  },
  {
   "cell_type": "markdown",
   "metadata": {
    "id": "lTTtSyGNXJCg"
   },
   "source": [
    "# Visualization with Matplotlib"
   ]
  },
  {
   "cell_type": "markdown",
   "metadata": {
    "id": "83OL0QBdXJCg"
   },
   "source": [
    "\n",
    "The Matplotlib package can be used for visualization in Python.\n",
    "\n",
    "`matplotlib.pyplot` is a collection of functions that make matplotlib work like MATLAB. `matplotlib.pyplot` makes it easy to create and manage figures. The MATLAB style interface is what we will use most often. An object-oriented style is also available which is more powerful and gives more control.\n"
   ]
  },
  {
   "cell_type": "markdown",
   "metadata": {
    "id": "7OxcmpFoXJCh"
   },
   "source": [
    "### Importing Matplotlib\n",
    "\n",
    "Just as we use the ``np`` shorthand for NumPy, we will use a standard shorthand for Matplotlib imports:"
   ]
  },
  {
   "cell_type": "code",
   "execution_count": null,
   "metadata": {
    "id": "07YAty9YXJCh"
   },
   "outputs": [],
   "source": [
    "import matplotlib.pyplot as plt\n",
    "%matplotlib inline"
   ]
  },
  {
   "cell_type": "markdown",
   "metadata": {
    "id": "Qt6YOKWWXJCi"
   },
   "source": [
    "The most important function in `matplotlib` is `plot`, which allows you to plot 2D data. Here is a simple example:"
   ]
  },
  {
   "cell_type": "code",
   "execution_count": null,
   "metadata": {
    "id": "5MMgzR9uXJCi",
    "scrolled": true
   },
   "outputs": [],
   "source": [
    "y=[2,4,3]\n",
    "plt.plot(y);"
   ]
  },
  {
   "cell_type": "markdown",
   "metadata": {
    "id": "qLTUvWLCXJCo"
   },
   "source": [
    "\n",
    "If you are using Matplotlib from within a script, the function ``plt.show()`` is needed for your figure to be displayed in a window.\n"
   ]
  },
  {
   "cell_type": "markdown",
   "metadata": {
    "id": "kWR0uilPXJCp"
   },
   "source": [
    "**Plotting a sinusoid from $0$ to $3\\pi$:**"
   ]
  },
  {
   "cell_type": "code",
   "execution_count": null,
   "metadata": {
    "id": "Oori9K0-XJCt",
    "scrolled": true
   },
   "outputs": [],
   "source": [
    "# Compute the x and y coordinates for points on a sine curve\n",
    "import numpy as np\n",
    "x = np.linspace(0, 3 * np.pi, 50)\n",
    "y = np.sin(x)\n",
    "\n",
    "# Plot the points using matplotlib\n",
    "plt.plot(x, y)"
   ]
  },
  {
   "cell_type": "markdown",
   "metadata": {
    "id": "THPaGrqjXJCu"
   },
   "source": [
    "Thus, `plot` can be used with one argument as `plot(y)`, which plots `y` values against its index or as `plot(x, y)`, which plots `y` vs `x`."
   ]
  },
  {
   "cell_type": "markdown",
   "metadata": {
    "id": "vcNahPddXJCv"
   },
   "source": [
    "#### Labelling x and y axis, adding title and legend:"
   ]
  },
  {
   "cell_type": "code",
   "execution_count": null,
   "metadata": {
    "id": "T6x4lowTXJCw",
    "scrolled": true
   },
   "outputs": [],
   "source": [
    "x = np.linspace(0, 10, 100)\n",
    "y = np.sin(x)\n",
    "z = np.cos(x)\n",
    "\n",
    "# Plot the points using matplotlib\n",
    "plt.plot(x, y, x, z) # multiple plots using a single plot()\n",
    "plt.xlabel('x axis label')\n",
    "plt.ylabel('y axis label')\n",
    "plt.title('Sine and Cosine')\n",
    "plt.legend(['Sine', 'Cosine']);"
   ]
  },
  {
   "cell_type": "markdown",
   "metadata": {
    "id": "7iVbFRcnXJCw"
   },
   "source": [
    "An alternative method to add legend is to use the `label=\"label text\"` keyword argument within `plt.plot()`, and then using the `legend` method without arguments to add the legend to the figure:"
   ]
  },
  {
   "cell_type": "code",
   "execution_count": null,
   "metadata": {
    "id": "S1t9nZgGXJCx",
    "scrolled": true
   },
   "outputs": [],
   "source": [
    "import numpy as np\n",
    "x = np.linspace(0, 2*np.pi, 100)\n",
    "\n",
    "plt.plot(x, np.sin(x), label='sin(x)')\n",
    "plt.plot(x, np.sin(2*x), label='sin(2x)')\n",
    "plt.legend() #legend without arguments\n",
    "plt.savefig('myfig.png') # saves the current fig in the current working dir with file name myfig.png"
   ]
  },
  {
   "cell_type": "markdown",
   "metadata": {
    "id": "zzVADLNmXJCy"
   },
   "source": [
    "**Including mathematical expressions in figures:**\n",
    "\n",
    "Matplotlib accepts TeX equation expressions in any text expression (legend, title, label etc). For example to write the expression $\\sigma_i=15$ in the title, you can write a TeX expression surrounded by dollar signs:\n",
    "`plt.title(r'$\\sigma_i=15$')`\n",
    "\n",
    "The `r` preceding the title string is important -- it signifies that the string is a *raw* string and not to treat backslashes as python escapes.\n",
    "\n",
    "Let us add x and y labels and legend to a polynomials plot:"
   ]
  },
  {
   "cell_type": "code",
   "execution_count": null,
   "metadata": {
    "id": "EVJUBK7NXJCz"
   },
   "outputs": [],
   "source": [
    "plt.plot(x, x, label=r'$y = x$') #linear\n",
    "plt.plot(x, x**2, label=r'$y = x^2$') #quadratic\n",
    "plt.plot(x, x**3, label=r'$y = x^3$'); #cubic\n",
    "plt.xlabel(r'$x$')\n",
    "plt.ylabel(r'$y$')\n",
    "plt.legend();"
   ]
  },
  {
   "cell_type": "markdown",
   "metadata": {
    "id": "FTWoMocgXJC0"
   },
   "source": [
    "In addition, `plot(x, y, formatstring)` plots `y` vs `x` using colors and markers defined in `formatstring`, which can be a lot of things. It can be used to define the color, for example `'b'` for blue, `'r'` for red, and `'g'` for green. Or it can be used to define the linetype `'-'` for line, `'--'` for dashed, `':'` for dots, `'o'` for circles and `'s'` for squares. You can even combine them: `'r--'` gives a red dashed line, while `'go'` gives green circular markers. If that is not enough, plot takes a number of keyword arguments like `linewidth` and `markersize`."
   ]
  },
  {
   "cell_type": "code",
   "execution_count": null,
   "metadata": {
    "id": "iQet8cARXJDh",
    "scrolled": true
   },
   "outputs": [],
   "source": [
    "# red dashes, blue squares, yellow circles and green triangles\n",
    "plt.plot(x, x, 'r--')\n",
    "plt.plot( x, x**2, 'bs')\n",
    "plt.plot( x, x**2.5, 'yo')\n",
    "plt.plot( x, x**3, 'g^')"
   ]
  },
  {
   "cell_type": "code",
   "execution_count": null,
   "metadata": {
    "id": "uckh-qf7XJDi"
   },
   "outputs": [],
   "source": [
    "help(plt.plot)"
   ]
  },
  {
   "cell_type": "markdown",
   "metadata": {
    "id": "vhGwjLrVXJDj"
   },
   "source": [
    "**Exercise** Plot $y$ vs $x$ for $x$ going from $-4$ to $+4$ for the polynomial\n",
    "$y=ax^2+bx+c$ with $a=1$, $b=1$, $c=-6$. Use linewidth of 6 (use the `linewidth` keyword argument in `plt.plot()` . "
   ]
  },
  {
   "cell_type": "code",
   "execution_count": null,
   "metadata": {
    "id": "quBMmX_TXJDk"
   },
   "outputs": [],
   "source": []
  },
  {
   "cell_type": "markdown",
   "metadata": {
    "id": "RmIchLU9XJDk"
   },
   "source": [
    "#### Exercise\n",
    "Create an array for variable $x$ consisting of 100 values from 0 to 20. Compute $y=\\sin(x)$ and plot $y$ vs. $x$ with a blue line. Next, using boolean indexing, replace all values of $y$ that are larger than 0.5 by 0.5, and all values that are smaller than $-$0.75 by $-$0.75, and plot the modified $y$ values vs. $x$ using a red line on the same graph. "
   ]
  },
  {
   "cell_type": "code",
   "execution_count": null,
   "metadata": {
    "id": "tfjAZaBKXJDl"
   },
   "outputs": [],
   "source": [
    "x = np.linspace(0, 20, 100)\n",
    "y = np.sin(x)\n",
    "plt.plot(x,y, 'b')\n",
    "y[ y > 0.5] = 0.5\n",
    "y[y < -0.75] = -0.75\n",
    "plt.plot(x, y, 'r')"
   ]
  },
  {
   "cell_type": "markdown",
   "metadata": {
    "id": "XICDKorHXJEB"
   },
   "source": [
    "***New figure and figure size***\n",
    "\n",
    "Whenever you give a plotting statement in a code cell, a figure with a default size is automatically created, and all subsequent plotting statements in the code cell are added to the same figure, unless you create a new figure using `plt.figure()`. If you want a different size of the figure, you can use the `plt.figure(figsize=(width, height))` syntax. "
   ]
  },
  {
   "cell_type": "code",
   "execution_count": null,
   "metadata": {
    "id": "ScTkfsoGXJEB",
    "scrolled": true
   },
   "outputs": [],
   "source": [
    "plt.plot([1, 2, 3], [2, 4, 3])\n",
    "plt.title('first figure')\n",
    "plt.figure()  # new figure of default size; set size using figsize=(width, height)\n",
    "plt.plot([1, 2, 3], [1, 3, 1], 'r')\n",
    "plt.title('second figure');"
   ]
  },
  {
   "cell_type": "markdown",
   "metadata": {
    "id": "9-XjnYFyXJEC"
   },
   "source": [
    "**Subplots**\n",
    "\n",
    "You can divide a figure into an $mxn$ grid and plot in panel $p$ using the `subplot(mnp)` syntax. Here is an example:"
   ]
  },
  {
   "cell_type": "code",
   "execution_count": null,
   "metadata": {},
   "outputs": [],
   "source": [
    "# Plotting a damped and undamped sinusoid\n",
    "t = np.linspace(0.0, 5.0, 100)\n",
    "x = np.exp(-t) * np.cos(2*np.pi*t)\n",
    "plt.subplot(211)\n",
    "plt.plot(t, x)\n",
    "\n",
    "# create a second sub plot\n",
    "y  = np.cos(2*np.pi*t)\n",
    "plt.subplot(212)\n",
    "plt.plot(t, y);"
   ]
  },
  {
   "cell_type": "markdown",
   "metadata": {
    "id": "kSWKaoh8XJEF"
   },
   "source": [
    "**Plotting images using plt.imshow()**\n",
    "\n",
    "A grayscale image is a 2D array of numbers:"
   ]
  },
  {
   "cell_type": "code",
   "execution_count": null,
   "metadata": {
    "id": "DT6cGZERXJEG"
   },
   "outputs": [],
   "source": [
    "random_image = np.random.random((50, 40))\n",
    "\n",
    "plt.imshow(random_image, cmap='gray')\n",
    "plt.colorbar();"
   ]
  },
  {
   "cell_type": "code",
   "execution_count": null,
   "metadata": {
    "id": "C4vNvCBWXJES"
   },
   "outputs": [],
   "source": [
    "random_colorim = np.random.random((5, 4, 3))\n",
    "\n",
    "plt.imshow(random_colorim)"
   ]
  },
  {
   "cell_type": "markdown",
   "metadata": {
    "id": "TOq4g_3lXJES"
   },
   "source": [
    "**Exercise**\n",
    "\n",
    "Draw the letter H in green color on a red background"
   ]
  },
  {
   "cell_type": "code",
   "execution_count": null,
   "metadata": {
    "id": "IrGqPAY1XJET"
   },
   "outputs": [],
   "source": [
    "im = np.zeros((5,4,3), dtype=np.uint8)\n",
    "im[:,:,:]=[255, 0, 0]\n",
    "im[2,:,:]=[0, 255, 0]\n",
    "im[:,[0,-1],:]=[0, 255, 0]\n",
    "plt.imshow(im)"
   ]
  },
  {
   "cell_type": "markdown",
   "metadata": {
    "id": "a-y9nuX2XJET"
   },
   "source": [
    "**Bar plot and Scatter plot**\n",
    "\n",
    "Matplotlib allows you to pass categorical variables directly to many plotting functions. For example:"
   ]
  },
  {
   "cell_type": "code",
   "execution_count": null,
   "metadata": {
    "id": "hSvsBbZDXJEU"
   },
   "outputs": [],
   "source": [
    "names = ['group_a', 'group_b', 'group_c']\n",
    "values = [1, 10, 100]\n",
    "\n",
    "plt.figure(figsize=(9, 3))\n",
    "\n",
    "plt.subplot(131)\n",
    "plt.bar(names, values)\n",
    "\n",
    "plt.subplot(132)\n",
    "plt.scatter(names, values)\n",
    "\n",
    "plt.subplot(133)\n",
    "plt.plot(names, values)\n",
    "\n",
    "plt.suptitle('Categorical Plotting');"
   ]
  }
 ],
 "metadata": {
  "colab": {
   "collapsed_sections": [],
   "name": "np_plt.ipynb",
   "provenance": []
  },
  "kernelspec": {
   "display_name": "Python 3.10.5 64-bit",
   "language": "python",
   "name": "python3"
  },
  "language_info": {
   "codemirror_mode": {
    "name": "ipython",
    "version": 3
   },
   "file_extension": ".py",
   "mimetype": "text/x-python",
   "name": "python",
   "nbconvert_exporter": "python",
   "pygments_lexer": "ipython3",
   "version": "3.10.5"
  },
  "vscode": {
   "interpreter": {
    "hash": "26de051ba29f2982a8de78e945f0abaf191376122a1563185a90213a26c5da77"
   }
  }
 },
 "nbformat": 4,
 "nbformat_minor": 4
}
